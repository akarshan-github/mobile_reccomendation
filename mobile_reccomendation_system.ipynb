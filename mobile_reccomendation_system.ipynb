{
 "cells": [
  {
   "cell_type": "code",
   "execution_count": 1,
   "metadata": {
    "execution": {
     "iopub.execute_input": "2023-07-29T14:20:41.741902Z",
     "iopub.status.busy": "2023-07-29T14:20:41.741389Z",
     "iopub.status.idle": "2023-07-29T14:20:41.748418Z",
     "shell.execute_reply": "2023-07-29T14:20:41.747291Z",
     "shell.execute_reply.started": "2023-07-29T14:20:41.741862Z"
    }
   },
   "outputs": [],
   "source": [
    "import pandas as pd\n",
    "import numpy as np\n",
    "import os\n",
    "from typing import Callable # this is to define test_func functions dtype as function itself\n",
    "import re # for regural expression\n",
    "import warnings\n",
    "warnings.filterwarnings('ignore')\n",
    "import pickle # for pickling my model"
   ]
  },
  {
   "cell_type": "code",
   "execution_count": 2,
   "metadata": {
    "execution": {
     "iopub.execute_input": "2023-07-29T14:20:41.750920Z",
     "iopub.status.busy": "2023-07-29T14:20:41.750222Z",
     "iopub.status.idle": "2023-07-29T14:20:41.792792Z",
     "shell.execute_reply": "2023-07-29T14:20:41.790455Z",
     "shell.execute_reply.started": "2023-07-29T14:20:41.750834Z"
    }
   },
   "outputs": [],
   "source": [
    "df = pd.read_csv('mobile_recommendation_system_dataset.csv',index_col=False)"
   ]
  },
  {
   "cell_type": "code",
   "execution_count": 3,
   "metadata": {
    "execution": {
     "iopub.execute_input": "2023-07-29T14:20:41.795598Z",
     "iopub.status.busy": "2023-07-29T14:20:41.794488Z",
     "iopub.status.idle": "2023-07-29T14:20:41.801791Z",
     "shell.execute_reply": "2023-07-29T14:20:41.800704Z",
     "shell.execute_reply.started": "2023-07-29T14:20:41.795554Z"
    }
   },
   "outputs": [],
   "source": [
    "def random_values(col_name:str,total=6):\n",
    "    for i in range(0,total):\n",
    "        index = np.random.randint(df.shape[0])\n",
    "        print(index,':',df[col_name].iloc[index])        "
   ]
  },
  {
   "cell_type": "code",
   "execution_count": 4,
   "metadata": {
    "execution": {
     "iopub.execute_input": "2023-07-29T14:20:41.804197Z",
     "iopub.status.busy": "2023-07-29T14:20:41.803193Z",
     "iopub.status.idle": "2023-07-29T14:20:41.824180Z",
     "shell.execute_reply": "2023-07-29T14:20:41.823109Z",
     "shell.execute_reply.started": "2023-07-29T14:20:41.804155Z"
    }
   },
   "outputs": [
    {
     "name": "stdout",
     "output_type": "stream",
     "text": [
      "1336 : Storage32 GBRAM2 GBExpandable Storage256GB  SystemAndroid Pie 9.0Processor TypeMediaTek P22 Octa Core 2.0 GHzProcessor Speed2 13MP 2MP 5MP 3G Capacity4000 Display Size15.49 cm (6.1 inch)Resolution1560 x 720 pixelsResolution TypeHD+GPUGE8320Display Colors16.7MOther Display FeaturesScreen Texture: a-Si, In-cell Touch Panel Technology, Screen Ratio: 19.5:9, Touch Panel Glass Type: GG3, Screen Contrast: 1200/900, Color Saturation: 70%/65% NTSC, Maximum Brightness: 450 nits/400 nits\n",
      "1429 : Storage128 GBRAM6 GBExpandable Storage512GB  SystemAndroid 12Processor TypeHelio G99Processor Speed2.2 50MP 2MP 2MP 50MP 2MP 2MP 50MP 8MP 8MP 4G Capacity5000 Display Size16.71 cm (6.58 inch)Resolution2408 x 1080 PixelsResolution TypeFull HD+GPUARM Mali-G57 MC2Display TypeFull HD+ LCD DisplayOther Display Features90Hz Refresh Rate, 400nits Peak Brightness\n",
      "2126 : Storage64 GBRAM4 GBExpandable Storage256GB  SystemAndroid 10Processor TypeMediaTek Helio G35Processor Speed2.3 13MP 13MP 8MP 8MP 4G Capacity6000 Display Size17.32 cm (6.82 inch)Resolution1640 x 720 PixelsResolution TypeHD+Display TypeHD+ LCD IPS In-cell DisplayOther Display Features20.5:9 Aspect Ratio, 440 NITS Brightness, 90.6% Screen-to-Body Ratio, Eye Care Mode, 1500:1 Contrast Ratio\n",
      "544 : Storage64 GBRAM6 GBExpandable Storage256GB  SystemAndroid 10Processor TypeMediaTek Helio G90TProcessor Speed2.05 48MP 8MP 2MP 2MP 48MP 8MP 2MP 2MP 48MP 2MP 16MP 16MP 4G Capacity4300 Display Size16.51 cm (6.5 inch)Resolution2400 x 1080 PixelsResolution TypeFull HD+GPUARM G76Display TypeFull HD+ In-cell LCD DisplayDisplay Colors16.7MOther Display Features20:9 Screen Ratio, Screen-to-body Ratio: 90.5%, Screen Contrast: 1500:1 (Type)/1100:1 (Min), 90 HZ (Max) Screen Refresh Rate, Color Saturation: 81.5% NTSC (Typ)/ 76% (Min), Maximum Brightness: 400 nits (Min), 480 nits (Typ), GG3, 2.5D Glass Material, 120 Hz Touch Sampling Rate\n",
      "2262 : Storage128 GBRAM8  SystemAndroid Q 11Processor Speed90 108MP 4G Capacity5000 Display Size16.33 cm (6.43 inch)Resolution720 x 1600 pixel\n",
      "485 : Storage128  SystemiOS 16Processor TypeA15 Bionic Chip 12MP 12MP 12MP 12MP 63MP 12MP 12MP 5G notMentioned Display Size15.49 cm (6.1 inch)Resolution2532 x 1170 PixelsResolution TypeSuper Retina XDR DisplayGPU5 CoreDisplay TypeSuper Retina XDR DisplayOther Display FeaturesHDR Display, True Tone, Wide Colour (P3), Haptic Touch, Contrast Ratio: 20,00,000:1, Max Brightness: 800 nits, Peak Brightness: 1,200 nits, Fingerprint Resistant Oleophobic Coating, Support for Display of Multiple Languages and Characters Simultaneously\n"
     ]
    }
   ],
   "source": [
    "random_values('corpus')"
   ]
  },
  {
   "cell_type": "markdown",
   "metadata": {},
   "source": [
    "## Lowercasing the corpus values"
   ]
  },
  {
   "cell_type": "code",
   "execution_count": 5,
   "metadata": {
    "execution": {
     "iopub.execute_input": "2023-07-29T14:20:41.828384Z",
     "iopub.status.busy": "2023-07-29T14:20:41.827625Z",
     "iopub.status.idle": "2023-07-29T14:20:41.842691Z",
     "shell.execute_reply": "2023-07-29T14:20:41.841283Z",
     "shell.execute_reply.started": "2023-07-29T14:20:41.828346Z"
    }
   },
   "outputs": [],
   "source": [
    "df['corpus'] = df['corpus'].str.lower()"
   ]
  },
  {
   "cell_type": "code",
   "execution_count": 6,
   "metadata": {
    "execution": {
     "iopub.execute_input": "2023-07-29T14:20:41.845268Z",
     "iopub.status.busy": "2023-07-29T14:20:41.844623Z",
     "iopub.status.idle": "2023-07-29T14:20:41.852201Z",
     "shell.execute_reply": "2023-07-29T14:20:41.850889Z",
     "shell.execute_reply.started": "2023-07-29T14:20:41.845230Z"
    }
   },
   "outputs": [
    {
     "name": "stdout",
     "output_type": "stream",
     "text": [
      "1432 : storage128 gbram4  systemandroid q 10processor typequalcomm snapdragon 662processor speed2 48mp 8mp 2mp 2mp 48mp 8mp 4g capacity6000 display size16.59 cm (6.53 inch)resolution2340 x 1080$$pixelresolution typefull hd+gpuadreno 610display typeips lcd\n",
      "267 : storage64 gbram4 gbexpandable storage1tb  systemandroid 12processor typeunisoc sc9863a/ unisoc sc9863a1processor speed1.6 8mp 8mp 5mp 5mp 4g capacity5000 display size16.51 cm (6.5 inch)resolution1600 x 720 pixelsresolution typehd+gpuimagination ge8322display typehd+ lcd displaydisplay colors16.7mother display featuresrefresh rate: 60 hz, aspect ratio: 20:9, screen-to-body ratio: 88.7%, screen contrast: 1500:1, maximum brightness: 400 nits, color saturation: 70%, sunlight screen support\n",
      "1933 : storage2 mbram10  systemandroid 10processor typeexynos octa coreprocessor speed2.73 64mp 12mp 12mp 64mp 12mp 12mp 10mp 10mp 4g capacity4300 display size17.02 cm (6.7 inch)resolution2400 x 1080 pixelsresolution typefull hd+display typefull hd+ super amoled plus display\n",
      "1808 : storage128 gbram4 gbexpandable storage256gb  systemandroid 11processor typeunisoc t610 octa coreprocessor speed1.8 50mp 2mp 2mp 50mp 2mp 2mp 8mp 8mp 4g capacity5000 display size16.51 cm (6.5 inch)resolution1600 x 720 pixelsresolution typehd+gpuarm mali-g52display typehd+ lcd in-cell displaydisplay colors16.7mother display features60hz refresh rate, 20:9 aspect ratio, 88.7% screen-to-body ratio, 120hz touch sampling rate, brightness: 360nits (min), 420nits (typical), color saturation: ntsc 70% (typ), 65% (min), cog sealing process\n",
      "2330 : storage8  systemios 7processor typea6 chip 8mp 2mp 3g notmentioned display size10.16 cm (4 inch)resolution1136 x 640 pixelsresolution typeretina displayother display featurescontrast ratio - 800:1, wide screen, 500 cd / m2 max brightness, finger print resistant, multi-touch, retina display, oleophobic coating on front\n",
      "1514 : storage256 systemandroid 13processor typedimensity 7050processor coreocta 64mp 32mp 8mp 64mp 32mp 8mp 32mp 32mp 5g notmentioned display size17.02 cm (6.7 inch)resolution2412 x 1080 pixelsresolution typefull hd+gpuarm mali g68 mc4display typefull hd+ amoled displaydisplay colors1.07 billionother display features120 hz 3d curved display, aspect ratio: 20:9, hdr10+, ultra narrow bazel, 240hz touch sampling rate, brightness: 500nits\n"
     ]
    }
   ],
   "source": [
    "random_values('corpus')"
   ]
  },
  {
   "cell_type": "code",
   "execution_count": 7,
   "metadata": {
    "execution": {
     "iopub.execute_input": "2023-07-29T14:20:41.854373Z",
     "iopub.status.busy": "2023-07-29T14:20:41.853878Z",
     "iopub.status.idle": "2023-07-29T14:20:41.871457Z",
     "shell.execute_reply": "2023-07-29T14:20:41.870102Z",
     "shell.execute_reply.started": "2023-07-29T14:20:41.854333Z"
    }
   },
   "outputs": [
    {
     "data": {
      "text/plain": [
       "name        0\n",
       "ratings     0\n",
       "price       0\n",
       "imgURL      0\n",
       "corpus     12\n",
       "dtype: int64"
      ]
     },
     "execution_count": 7,
     "metadata": {},
     "output_type": "execute_result"
    }
   ],
   "source": [
    "df.isnull().sum()"
   ]
  },
  {
   "cell_type": "code",
   "execution_count": 8,
   "metadata": {
    "execution": {
     "iopub.execute_input": "2023-07-29T14:22:30.334840Z",
     "iopub.status.busy": "2023-07-29T14:22:30.334465Z",
     "iopub.status.idle": "2023-07-29T14:22:30.346790Z",
     "shell.execute_reply": "2023-07-29T14:22:30.345742Z",
     "shell.execute_reply.started": "2023-07-29T14:22:30.334810Z"
    }
   },
   "outputs": [],
   "source": [
    "df.dropna(inplace=True)"
   ]
  },
  {
   "cell_type": "code",
   "execution_count": 9,
   "metadata": {
    "execution": {
     "iopub.execute_input": "2023-07-29T14:22:32.026219Z",
     "iopub.status.busy": "2023-07-29T14:22:32.025803Z",
     "iopub.status.idle": "2023-07-29T14:22:32.066242Z",
     "shell.execute_reply": "2023-07-29T14:22:32.065096Z",
     "shell.execute_reply.started": "2023-07-29T14:22:32.026186Z"
    }
   },
   "outputs": [
    {
     "name": "stdout",
     "output_type": "stream",
     "text": [
      "words max len in corpus is: 1196\n"
     ]
    }
   ],
   "source": [
    "max_len = 0\n",
    "for i in range(0, len(df['corpus'])):\n",
    "    try:\n",
    "        if len(df['corpus'][i]) > max_len:\n",
    "            max_len = len(df['corpus'][i])\n",
    "    except:\n",
    "        pass\n",
    "\n",
    "print(f'words max len in corpus is: {max_len}')\n"
   ]
  },
  {
   "cell_type": "code",
   "execution_count": 10,
   "metadata": {
    "execution": {
     "iopub.execute_input": "2023-07-29T14:22:32.353634Z",
     "iopub.status.busy": "2023-07-29T14:22:32.353093Z",
     "iopub.status.idle": "2023-07-29T14:22:32.372698Z",
     "shell.execute_reply": "2023-07-29T14:22:32.371456Z",
     "shell.execute_reply.started": "2023-07-29T14:22:32.353588Z"
    }
   },
   "outputs": [
    {
     "data": {
      "text/html": [
       "<div>\n",
       "<style scoped>\n",
       "    .dataframe tbody tr th:only-of-type {\n",
       "        vertical-align: middle;\n",
       "    }\n",
       "\n",
       "    .dataframe tbody tr th {\n",
       "        vertical-align: top;\n",
       "    }\n",
       "\n",
       "    .dataframe thead th {\n",
       "        text-align: right;\n",
       "    }\n",
       "</style>\n",
       "<table border=\"1\" class=\"dataframe\">\n",
       "  <thead>\n",
       "    <tr style=\"text-align: right;\">\n",
       "      <th></th>\n",
       "      <th>name</th>\n",
       "      <th>ratings</th>\n",
       "      <th>price</th>\n",
       "      <th>imgURL</th>\n",
       "      <th>corpus</th>\n",
       "    </tr>\n",
       "  </thead>\n",
       "  <tbody>\n",
       "    <tr>\n",
       "      <th>1643</th>\n",
       "      <td>MOTOROLA g52 (Metallic White, 128 GB)</td>\n",
       "      <td>4.2</td>\n",
       "      <td>13999</td>\n",
       "      <td>https://rukminim2.flixcart.com/image/312/312/l...</td>\n",
       "      <td>storage128 gbram6  systemandroid 12processor t...</td>\n",
       "    </tr>\n",
       "    <tr>\n",
       "      <th>2401</th>\n",
       "      <td>Infinix Smart 2 (Serene Gold, 16 GB)</td>\n",
       "      <td>4.1</td>\n",
       "      <td>6999</td>\n",
       "      <td>https://rukminim2.flixcart.com/image/312/312/j...</td>\n",
       "      <td>storage16 gbram2 gbexpandable storage128gb  sy...</td>\n",
       "    </tr>\n",
       "    <tr>\n",
       "      <th>1649</th>\n",
       "      <td>SAMSUNG Galaxy A21s (Black, 128 GB)</td>\n",
       "      <td>4.0</td>\n",
       "      <td>16999</td>\n",
       "      <td>https://rukminim2.flixcart.com/image/312/312/k...</td>\n",
       "      <td>storage128 gbram6 gbexpandable storage512gb  s...</td>\n",
       "    </tr>\n",
       "    <tr>\n",
       "      <th>1082</th>\n",
       "      <td>Redmi 6 (Gold, 32 GB)</td>\n",
       "      <td>4.4</td>\n",
       "      <td>8999</td>\n",
       "      <td>https://rukminim2.flixcart.com/image/312/312/j...</td>\n",
       "      <td>storage32 gbram3 gbexpandable storage256gb  sy...</td>\n",
       "    </tr>\n",
       "    <tr>\n",
       "      <th>662</th>\n",
       "      <td>realme GT 2 (Paper White, 128 GB)</td>\n",
       "      <td>4.3</td>\n",
       "      <td>30537</td>\n",
       "      <td>https://rukminim2.flixcart.com/image/312/312/l...</td>\n",
       "      <td>storage128 gbram8  systemandroid 12processor t...</td>\n",
       "    </tr>\n",
       "    <tr>\n",
       "      <th>2478</th>\n",
       "      <td>OPPO Reno3 Pro (Sky White, 256 GB)</td>\n",
       "      <td>4.4</td>\n",
       "      <td>₹35,990</td>\n",
       "      <td>https://rukminim2.flixcart.com/image/312/312/k...</td>\n",
       "      <td>storage256 gbram8 gbexpandable storage256gb  s...</td>\n",
       "    </tr>\n",
       "    <tr>\n",
       "      <th>2060</th>\n",
       "      <td>REDMI Note 10S (Frost White, 64 GB)</td>\n",
       "      <td>4.4</td>\n",
       "      <td>16999</td>\n",
       "      <td>https://rukminim2.flixcart.com/image/312/312/k...</td>\n",
       "      <td>storage64 gbram6 gbexpandable storage512gb  sy...</td>\n",
       "    </tr>\n",
       "    <tr>\n",
       "      <th>1010</th>\n",
       "      <td>OnePlus 9RT 5G (Hacker Black, 128 GB)</td>\n",
       "      <td>3.9</td>\n",
       "      <td>22537</td>\n",
       "      <td>https://rukminim2.flixcart.com/image/312/312/x...</td>\n",
       "      <td>storage128 gbram8  systemandroid q 11processor...</td>\n",
       "    </tr>\n",
       "    <tr>\n",
       "      <th>1111</th>\n",
       "      <td>realme C30s (Stripe Black, 64 GB)</td>\n",
       "      <td>4.2</td>\n",
       "      <td>8499</td>\n",
       "      <td>https://rukminim2.flixcart.com/image/312/312/x...</td>\n",
       "      <td>storage64 gbram4 gbexpandable storage1tb  syst...</td>\n",
       "    </tr>\n",
       "    <tr>\n",
       "      <th>2265</th>\n",
       "      <td>Tecno Spark Power (Dawn Blue, 64 GB)</td>\n",
       "      <td>4.2</td>\n",
       "      <td>10499</td>\n",
       "      <td>https://rukminim2.flixcart.com/image/312/312/k...</td>\n",
       "      <td>storage64 gbram4 gbexpandable storage256gb  sy...</td>\n",
       "    </tr>\n",
       "  </tbody>\n",
       "</table>\n",
       "</div>"
      ],
      "text/plain": [
       "                                       name  ratings    price  \\\n",
       "1643  MOTOROLA g52 (Metallic White, 128 GB)      4.2    13999   \n",
       "2401   Infinix Smart 2 (Serene Gold, 16 GB)      4.1     6999   \n",
       "1649    SAMSUNG Galaxy A21s (Black, 128 GB)      4.0    16999   \n",
       "1082                  Redmi 6 (Gold, 32 GB)      4.4     8999   \n",
       "662       realme GT 2 (Paper White, 128 GB)      4.3    30537   \n",
       "2478     OPPO Reno3 Pro (Sky White, 256 GB)      4.4  ₹35,990   \n",
       "2060    REDMI Note 10S (Frost White, 64 GB)      4.4    16999   \n",
       "1010  OnePlus 9RT 5G (Hacker Black, 128 GB)      3.9    22537   \n",
       "1111      realme C30s (Stripe Black, 64 GB)      4.2     8499   \n",
       "2265   Tecno Spark Power (Dawn Blue, 64 GB)      4.2    10499   \n",
       "\n",
       "                                                 imgURL  \\\n",
       "1643  https://rukminim2.flixcart.com/image/312/312/l...   \n",
       "2401  https://rukminim2.flixcart.com/image/312/312/j...   \n",
       "1649  https://rukminim2.flixcart.com/image/312/312/k...   \n",
       "1082  https://rukminim2.flixcart.com/image/312/312/j...   \n",
       "662   https://rukminim2.flixcart.com/image/312/312/l...   \n",
       "2478  https://rukminim2.flixcart.com/image/312/312/k...   \n",
       "2060  https://rukminim2.flixcart.com/image/312/312/k...   \n",
       "1010  https://rukminim2.flixcart.com/image/312/312/x...   \n",
       "1111  https://rukminim2.flixcart.com/image/312/312/x...   \n",
       "2265  https://rukminim2.flixcart.com/image/312/312/k...   \n",
       "\n",
       "                                                 corpus  \n",
       "1643  storage128 gbram6  systemandroid 12processor t...  \n",
       "2401  storage16 gbram2 gbexpandable storage128gb  sy...  \n",
       "1649  storage128 gbram6 gbexpandable storage512gb  s...  \n",
       "1082  storage32 gbram3 gbexpandable storage256gb  sy...  \n",
       "662   storage128 gbram8  systemandroid 12processor t...  \n",
       "2478  storage256 gbram8 gbexpandable storage256gb  s...  \n",
       "2060  storage64 gbram6 gbexpandable storage512gb  sy...  \n",
       "1010  storage128 gbram8  systemandroid q 11processor...  \n",
       "1111  storage64 gbram4 gbexpandable storage1tb  syst...  \n",
       "2265  storage64 gbram4 gbexpandable storage256gb  sy...  "
      ]
     },
     "execution_count": 10,
     "metadata": {},
     "output_type": "execute_result"
    }
   ],
   "source": [
    "df.sample(10)"
   ]
  },
  {
   "cell_type": "code",
   "execution_count": 11,
   "metadata": {
    "execution": {
     "iopub.execute_input": "2023-07-29T14:22:32.699733Z",
     "iopub.status.busy": "2023-07-29T14:22:32.699347Z",
     "iopub.status.idle": "2023-07-29T14:22:32.707531Z",
     "shell.execute_reply": "2023-07-29T14:22:32.706324Z",
     "shell.execute_reply.started": "2023-07-29T14:22:32.699704Z"
    }
   },
   "outputs": [
    {
     "name": "stdout",
     "output_type": "stream",
     "text": [
      "1352 : https://rukminim2.flixcart.com/image/312/312/xif0q/mobile/q/g/a/-original-imagndzzegs4guek.jpeg?q=70\n",
      "1606 : https://rukminim2.flixcart.com/image/312/312/kk2wl8w0/mobile/i/t/a/m02s-sb08rswhmz61-samsung-original-imafzg4azbgz4c3y.jpeg?q=70\n",
      "796 : https://rukminim2.flixcart.com/image/312/312/k9stjm80/mobile/8/q/9/vivo-y91i-vivo-1820-pd1818hf-ex-original-imafrgnrngnjwfka.jpeg?q=70\n",
      "1965 : https://rukminim2.flixcart.com/image/312/312/xif0q/mobile/p/w/b/-original-imagmefcaj26vdhg.jpeg?q=70\n",
      "440 : https://rukminim2.flixcart.com/image/312/312/xif0q/mobile/z/c/0/spark-go-2023-bf7-tecno-original-imagzg8f73aycpee.jpeg?q=70\n",
      "1156 : https://rukminim2.flixcart.com/image/312/312/xif0q/mobile/u/1/h/-original-imagpfbvfu4p55n4.jpeg?q=70\n"
     ]
    }
   ],
   "source": [
    "random_values('imgURL')"
   ]
  },
  {
   "cell_type": "markdown",
   "metadata": {},
   "source": [
    "# Model"
   ]
  },
  {
   "cell_type": "markdown",
   "metadata": {},
   "source": [
    "## vectorization(to convert the words to vectors)"
   ]
  },
  {
   "cell_type": "code",
   "execution_count": 12,
   "metadata": {
    "execution": {
     "iopub.execute_input": "2023-07-29T14:22:33.613577Z",
     "iopub.status.busy": "2023-07-29T14:22:33.612340Z",
     "iopub.status.idle": "2023-07-29T14:22:34.082101Z",
     "shell.execute_reply": "2023-07-29T14:22:34.081082Z",
     "shell.execute_reply.started": "2023-07-29T14:22:33.613528Z"
    }
   },
   "outputs": [],
   "source": [
    "\n",
    "from sklearn.feature_extraction.text import CountVectorizer "
   ]
  },
  {
   "cell_type": "code",
   "execution_count": 13,
   "metadata": {
    "execution": {
     "iopub.execute_input": "2023-07-29T14:22:34.084875Z",
     "iopub.status.busy": "2023-07-29T14:22:34.084161Z",
     "iopub.status.idle": "2023-07-29T14:22:34.090254Z",
     "shell.execute_reply": "2023-07-29T14:22:34.089111Z",
     "shell.execute_reply.started": "2023-07-29T14:22:34.084830Z"
    }
   },
   "outputs": [],
   "source": [
    "cont_vect = CountVectorizer(max_features=1000)"
   ]
  },
  {
   "cell_type": "code",
   "execution_count": 14,
   "metadata": {
    "execution": {
     "iopub.execute_input": "2023-07-29T14:22:34.667173Z",
     "iopub.status.busy": "2023-07-29T14:22:34.666557Z",
     "iopub.status.idle": "2023-07-29T14:22:34.851056Z",
     "shell.execute_reply": "2023-07-29T14:22:34.850058Z",
     "shell.execute_reply.started": "2023-07-29T14:22:34.667131Z"
    }
   },
   "outputs": [],
   "source": [
    "arrays = cont_vect.fit_transform(df['corpus'])"
   ]
  },
  {
   "cell_type": "code",
   "execution_count": 15,
   "metadata": {
    "execution": {
     "iopub.execute_input": "2023-07-29T14:22:34.990595Z",
     "iopub.status.busy": "2023-07-29T14:22:34.989933Z",
     "iopub.status.idle": "2023-07-29T14:22:35.012378Z",
     "shell.execute_reply": "2023-07-29T14:22:35.011132Z",
     "shell.execute_reply.started": "2023-07-29T14:22:34.990547Z"
    }
   },
   "outputs": [],
   "source": [
    "vectors = arrays.toarray()"
   ]
  },
  {
   "cell_type": "code",
   "execution_count": 16,
   "metadata": {
    "execution": {
     "iopub.execute_input": "2023-07-29T14:22:35.305385Z",
     "iopub.status.busy": "2023-07-29T14:22:35.304971Z",
     "iopub.status.idle": "2023-07-29T14:22:35.318628Z",
     "shell.execute_reply": "2023-07-29T14:22:35.317467Z",
     "shell.execute_reply.started": "2023-07-29T14:22:35.305341Z"
    }
   },
   "outputs": [
    {
     "data": {
      "text/plain": [
       "array(['00', '000', '02', '03', '04', '05', '07', '07bother', '08', '09',\n",
       "       '0mp', '0primary', '0processor', '10', '100', '1000', '100000',\n",
       "       '1000000', '100mp', '103', '104', '106', '1080', '1080processor',\n",
       "       '1080resolution', '108mp', '10mp', '10processor', '11', '1100',\n",
       "       '1125', '1170', '1179', '11primary', '11processor', '12', '120',\n",
       "       '1200', '1200processor', '120hz', '1242', '1280processor', '1284',\n",
       "       '1290', '12mp', '12primary', '12processor', '13', '1300',\n",
       "       '1300processor', '1330', '1334', '135', '13mp', '13processor',\n",
       "       '14', '1400', '144', '1440', '144hz', '1480', '14processor', '15',\n",
       "       '1500', '1544', '15processor', '16', '160', '1600', '16000',\n",
       "       '1600resolution', '1612', '16mp', '16processor', '18', '180',\n",
       "       '1800', '180hz', '19', '1920', '1920hz', '1processor', '20', '200',\n",
       "       '2000000', '200mp', '20mp', '21', '22', '23', '2340', '24', '240',\n",
       "       '2400', '2400resolution', '2408', '240hz', '2460', '24mp', '25mm',\n",
       "       '25mp', '26', '27', '28', '2d', '2g', '2ghzprocessor', '2mm',\n",
       "       '2mp', '2processor', '2x', '2xhd', '30', '308display', '30hz',\n",
       "       '32', '326', '32mp', '33', '35', '36', '360', '37', '38', '39',\n",
       "       '3d', '3g', '3ghzprocessor', '3mp', '40', '400', '400nits', '401',\n",
       "       '4096', '41', '420', '420nits', '425processor', '43', '430',\n",
       "       '439processor', '44', '440', '44mm', '44mp', '45', '450',\n",
       "       '4500000', '450processor', '460processor', '46mm', '47', '48',\n",
       "       '480', '480hz', '480nits', '488', '48hz', '48mp', '49', '4g',\n",
       "       '4ghzprocessor', '4mp', '50', '500', '5000000', '500nit',\n",
       "       '500nits', '505', '505display', '505other', '506display',\n",
       "       '509display', '50hz', '50mp', '51', '512display', '515', '52',\n",
       "       '53', '54', '55', '550', '56', '57', '58', '580', '59', '5d', '5g',\n",
       "       '5gprocessor', '5mp', '60', '600', '60000', '6020processor',\n",
       "       '60hz', '60mp', '61', '610', '610display', '612display',\n",
       "       '616display', '618display', '619display', '62', '620display',\n",
       "       '625', '625processor', '636processor', '63mp', '64', '640',\n",
       "       '640display', '642ldisplay', '64mp', '65', '650', '650display',\n",
       "       '66', '660', '660display', '662processor', '665', '665processor',\n",
       "       '67', '675processor', '680', '680processor', '69', '695',\n",
       "       '695processor', '6mm', '6processor', '70', '700', '700processor',\n",
       "       '7050processor', '70mm', '71', '712', '72', '720', '720gprocessor',\n",
       "       '720resolution', '73', '730display', '730processor',\n",
       "       '732gprocessor', '74', '740display', '75', '750', '750gprocessor',\n",
       "       '76', '765gprocessor', '77', '778g', '778gprocessor', '78', '7m',\n",
       "       '7mother', '7mp', '7processor', '7t', '80', '800', '800uprocessor',\n",
       "       '81', '810', '8100processor', '810processor', '82', '828', '83',\n",
       "       '84', '85', '850', '850processor', '855', '855processor', '86',\n",
       "       '865processor', '87', '870processor', '87mm', '88', '888',\n",
       "       '888processor', '89', '8mp', '8processor', '90', '900',\n",
       "       '900processor', '90hz', '90nit', '91', '92', '920processor', '93',\n",
       "       '94', '95', '950', '96', '9611', '9611processor', '97', '98',\n",
       "       '98mm', '99', '9processor', 'a10', 'a11', 'a22processor',\n",
       "       'a618display', 'a9', 'aa', 'access', 'active', 'adaptive',\n",
       "       'adjustment', 'adreno', 'agc', 'aieprocessor', 'all', 'always',\n",
       "       'amazon', 'ambient', 'amoled', 'amoleddisplay', 'amoledhd',\n",
       "       'amoledother', 'an', 'and', 'android', 'angle', 'angles', 'anti',\n",
       "       'anywhere', 'area', 'arrangement', 'aspect', 'at', 'auto', 'back',\n",
       "       'backlit', 'based', 'bazel', 'bezel', 'billionother', 'bionic',\n",
       "       'bit', 'blue', 'body', 'border', 'bottom', 'brightness', 'by',\n",
       "       'c3', 'camera', 'capacitive', 'capacity1000', 'capacity1440',\n",
       "       'capacity1715', 'capacity2750', 'capacity2915', 'capacity3000',\n",
       "       'capacity3080', 'capacity3180', 'capacity3200', 'capacity3300',\n",
       "       'capacity3400', 'capacity3500', 'capacity3700', 'capacity3900',\n",
       "       'capacity4000', 'capacity4015', 'capacity4020', 'capacity4030',\n",
       "       'capacity4050', 'capacity4100', 'capacity4115', 'capacity4200',\n",
       "       'capacity4230', 'capacity4250', 'capacity4300', 'capacity4400',\n",
       "       'capacity4500', 'capacity4520', 'capacity4600', 'capacity4700',\n",
       "       'capacity4800', 'capacity5000', 'capacity5020', 'capacity5160',\n",
       "       'capacity6000', 'capacity7000', 'capacity800', 'care', 'cd',\n",
       "       'cell', 'celldisplay', 'cellother', 'certification', 'certified',\n",
       "       'channel', 'characters', 'chip', 'clear', 'clock', 'cm', 'coating',\n",
       "       'cof', 'cog', 'color', 'coloros', 'colorother', 'colors',\n",
       "       'colors1', 'colors10', 'colors16', 'colors16m', 'colors16mother',\n",
       "       'colors65', 'colorscontrast', 'colour', 'comfort', 'contrast',\n",
       "       'control', 'core', 'coredisplay', 'coreocta', 'coreprocessor',\n",
       "       'corning', 'cover', 'coverage', 'curved', 'cut', 'dc', 'dci',\n",
       "       'degree', 'design', 'designed', 'dewdrop', 'diagonal', 'dimensity',\n",
       "       'dimming', 'dinorex', 'display', 'displaydisplay', 'displaygpu4',\n",
       "       'displaygpu5', 'displaygpuadreno', 'displaygpuarm',\n",
       "       'displaygpupowervr', 'displaygpuqualcomm', 'displayhd',\n",
       "       'displaymate', 'displayother', 'dolby', 'domain', 'dot', 'down',\n",
       "       'dual', 'dynamic', 'e3', 'edge', 'edition', 'enhancer',\n",
       "       'experience', 'exynos', 'eye', 'f01', 'face', 'faster',\n",
       "       'features120', 'features1200nits', 'features120hz', 'features1300',\n",
       "       'features1400', 'features16', 'features180', 'features180hz',\n",
       "       'features19', 'features2', 'features20', 'features6', 'features60',\n",
       "       'features89', 'features90', 'features90hz', 'featuresadaptive',\n",
       "       'featuresaspect', 'featuresbezel', 'featurescontrast',\n",
       "       'featurescorning', 'featuresdisplay', 'featuresdolby',\n",
       "       'featuresdynamic', 'featuresfullview', 'featureshalo',\n",
       "       'featureshdr', 'featuresin', 'featuresips', 'featuresled',\n",
       "       'featuresmulti', 'featuresnarrow', 'featureson', 'featuresrefresh',\n",
       "       'featuresretina', 'featuresscreen', 'featuressuper',\n",
       "       'featurestouch', 'featuresvideo', 'featureswidescreen', 'fhd',\n",
       "       'film', 'finger', 'fingerprint', 'fluiddisplay', 'for', 'fps',\n",
       "       'frame', 'frequencygsm', 'from', 'front', 'full', 'fullview',\n",
       "       'fusion', 'g25processor', 'g35processor', 'g37processor', 'g52',\n",
       "       'g52display', 'g57', 'g57display', 'g610', 'g68', 'g68display',\n",
       "       'g70processor', 'g71', 'g72', 'g76', 'g76display', 'g77',\n",
       "       'g77display', 'g80processor', 'g85processor', 'g88processor',\n",
       "       'g90tprocessor', 'g95processor', 'g96processor', 'g99processor',\n",
       "       'game', 'gameplay', 'gamut', 'gbexpandable', 'gbram1', 'gbram12',\n",
       "       'gbram128', 'gbram16', 'gbram2', 'gbram3', 'gbram4', 'gbram6',\n",
       "       'gbram8', 'gbtotal', 'ge8320', 'ge8320display', 'ge8322display',\n",
       "       'gen', 'generation', 'gentle', 'gestures', 'gff', 'gg3', 'gg5',\n",
       "       'ghz', 'ghzprocessor', 'glass', 'go', 'goprocessor', 'gorilla',\n",
       "       'gpu', 'gpuadreno', 'gpuarm', 'gpuge8320display', 'gpuimagination',\n",
       "       'gpuimg', 'gpumali', 'gpupowervr', 'gpuqualcomm', 'graphics',\n",
       "       'gt7600', 'halo', 'haptic', 'hbm', 'hd', 'hdgpuadreno', 'hdgpuarm',\n",
       "       'hdr', 'hdr10', 'helio', 'high', 'hios', 'hole', 'hz', 'in',\n",
       "       'incell', 'inch', 'increase', 'infinity', 'intensive', 'ion',\n",
       "       'ips', 'ipsdisplay', 'ipsother', 'is', 'island', 'kitkat',\n",
       "       'languages', 'layer', 'lcd', 'lcddisplay', 'lcdhd', 'lcdother',\n",
       "       'led', 'left', 'level', 'light', 'liquid', 'local', 'lollipop',\n",
       "       'low', 'lower', 'ltps', 'm2', 'mali', 'marshmallow', 'material',\n",
       "       'max', 'maximum', 'mbram4', 'mc2', 'mc2display', 'mc3display',\n",
       "       'mc4display', 'mc6display', 'mc9display', 'mediatek', 'memc',\n",
       "       'memory128gb', 'memory64gb', 'metal', 'mhz', 'mhzdisplay',\n",
       "       'mhzother', 'millionother', 'min', 'minimum', 'miui', 'mm',\n",
       "       'mn228', 'mobile', 'mode', 'more', 'mother', 'motion',\n",
       "       'mp1display', 'mp2display', 'mp3', 'mp3display', 'mp4display',\n",
       "       'mp5display', 'mt6762processor', 'mt6765', 'mt6771v', 'multi',\n",
       "       'multiple', 'nano', 'narrow', 'neg', 'new', 'night', 'nit', 'nits',\n",
       "       'nm', 'no', 'normal', 'notch', 'notmentioned', 'nougat', 'ntsc',\n",
       "       'octa', 'octacoreprocessor', 'of', 'off', 'oled', 'oleophobic',\n",
       "       'oleophpbic', 'on', 'oncell', 'oneplus', 'optimised', 'oreo', 'os',\n",
       "       'other', 'outdoor', 'outside', 'over', 'oxygen', 'oxygenos',\n",
       "       'oxygenosprocessor', 'p22', 'p22processor', 'p2i', 'p3', 'p35',\n",
       "       'p35processor', 'p60', 'p70', 'p70processor', 'p95processor',\n",
       "       'panda', 'panel', 'peak', 'percent', 'performance', 'peripheral',\n",
       "       'phone', 'pie', 'pixel', 'pixelgpuadreno', 'pixelresolution',\n",
       "       'pixels', 'pixelsdisplay', 'pixelsgpuadreno', 'pixelsgpuapple',\n",
       "       'pixelsgpuarm', 'pixelsresolution', 'platformprocessor',\n",
       "       'playback', 'plusprocessor', 'points', 'poled', 'powervr',\n",
       "       'powervrdisplay', 'ppi', 'print', 'pro', 'process', 'processor',\n",
       "       'processorprocessor', 'promotion', 'proof', 'proportion',\n",
       "       'protected', 'protection', 'protective', 'protector', 'punch',\n",
       "       'pwm', 'pwm2160hz', 'quad', 'rate', 'rates', 'ratio', 'rdother',\n",
       "       'reachability', 'reading', 'refresh', 'repellent', 'resistant',\n",
       "       'resolution', 'resolution1080', 'resolution1080x2400',\n",
       "       'resolution1136', 'resolution128', 'resolution1280',\n",
       "       'resolution1334', 'resolution1440', 'resolution1520',\n",
       "       'resolution1560', 'resolution1600', 'resolution1600x720',\n",
       "       'resolution1612', 'resolution1612x720', 'resolution1640',\n",
       "       'resolution1650', 'resolution1650x720', 'resolution1792',\n",
       "       'resolution1920', 'resolution1920x1080', 'resolution2160',\n",
       "       'resolution2160x1080', 'resolution2280', 'resolution2340',\n",
       "       'resolution2376', 'resolution2400', 'resolution2400x1080',\n",
       "       'resolution2404', 'resolution2408', 'resolution2412',\n",
       "       'resolution2436', 'resolution2460', 'resolution2480',\n",
       "       'resolution2532', 'resolution2556', 'resolution2640',\n",
       "       'resolution2688', 'resolution2772x1240', 'resolution2778',\n",
       "       'resolution2796', 'resolution3088', 'resolution3216',\n",
       "       'resolution720', 'resolution720x1600', 'resolution750', 'retina',\n",
       "       'rheinland', 'right', 's5e8535', 'samoled', 'sampling', 'samsung',\n",
       "       'saturation', 'sc9863a1processor', 'schott', 'scratch', 'screen',\n",
       "       'sdm450', 'sealing', 'seamless', 'sensor', 'sgs', 'si', 'side',\n",
       "       'simultaneously', 'six', 'size', 'size10', 'size11', 'size12',\n",
       "       'size13', 'size14', 'size15', 'size16', 'size17', 'size19',\n",
       "       'size3', 'size5', 'slim', 'smart', 'smooth', 'snapdragon', 'space',\n",
       "       'speed1', 'speed2', 'speed208', 'speed3', 'speed90', 'splash',\n",
       "       'srgb', 'standard', 'static', 'storage1024', 'storage128',\n",
       "       'storage128gb', 'storage16', 'storage1tb', 'storage2',\n",
       "       'storage256', 'storage256gb', 'storage2tb', 'storage32',\n",
       "       'storage512', 'storage512gb', 'storage64', 'storage8',\n",
       "       'stroboscopic', 'sunlight', 'sunshine', 'super', 'supplier',\n",
       "       'support', 'supports', 'supportyes', 'supportyesdisplay',\n",
       "       'supportyesother', 'sync', 'systemandroid',\n",
       "       'systemandroidprocessor', 'systemios', 't2x', 't606processor',\n",
       "       't610processor', 't612processor', 't616processor', 't830', 'tap',\n",
       "       'technology', 'technologyhd', 'technologyother', 'temperature',\n",
       "       'texture', 'tft', 'tftother', 'than', 'that', 'the', 'to', 'tone',\n",
       "       'top', 'touch', 'tp', 'true', 'tuv', 'typ', 'type', 'type2',\n",
       "       'typea10', 'typea11', 'typea12', 'typea13', 'typea14', 'typea15',\n",
       "       'typea16', 'typea6', 'typea8', 'typea9', 'typeall', 'typeamoled',\n",
       "       'typeamoleddisplay', 'typeamoledother', 'typeapple',\n",
       "       'typecapacitive', 'typedimensity', 'typedotdisplayhd',\n",
       "       'typedynamic', 'typeexynos', 'typefhd', 'typefluid', 'typefull',\n",
       "       'typeg37processor', 'typehd', 'typehddisplay', 'typehdgpuadreno',\n",
       "       'typehdgpumali', 'typehelio', 'typein', 'typeips', 'typeipsother',\n",
       "       'typelcdhd', 'typeled', 'typeli', 'typeliquid', 'typemediatek',\n",
       "       'typemt6763tprocessor', 'typemtk', 'typeocta', 'typepls',\n",
       "       'typequad', 'typequalcomm', 'typeretina', 'typesamsung', 'typesec',\n",
       "       'typesnapdragon', 'typesuper', 'typetft', 'typetftdisplay',\n",
       "       'typeunisoc', 'typewidescreen', 'typical', 'tüv', 'ultra', 'under',\n",
       "       'unlock', 'up', 'upper', 'upto', 'usb', 'value', 'victus', 'view',\n",
       "       'viewing', 'vision', 'visuals', 'vivid', 'wake', 'water',\n",
       "       'waterdrop', 'wide', 'widescreen', 'will', 'with', 'xdr',\n",
       "       'xensation', 'you', 'zoom'], dtype=object)"
      ]
     },
     "execution_count": 16,
     "metadata": {},
     "output_type": "execute_result"
    }
   ],
   "source": [
    "cont_vect.get_feature_names_out()"
   ]
  },
  {
   "cell_type": "markdown",
   "metadata": {},
   "source": [
    "## Calculating cosine similarity for recommendation"
   ]
  },
  {
   "cell_type": "code",
   "execution_count": 17,
   "metadata": {
    "execution": {
     "iopub.execute_input": "2023-07-29T14:22:35.921007Z",
     "iopub.status.busy": "2023-07-29T14:22:35.920509Z",
     "iopub.status.idle": "2023-07-29T14:22:36.022924Z",
     "shell.execute_reply": "2023-07-29T14:22:36.021710Z",
     "shell.execute_reply.started": "2023-07-29T14:22:35.920964Z"
    }
   },
   "outputs": [],
   "source": [
    "from sklearn.metrics.pairwise import cosine_similarity"
   ]
  },
  {
   "cell_type": "code",
   "execution_count": 18,
   "metadata": {
    "execution": {
     "iopub.execute_input": "2023-07-29T14:22:36.206212Z",
     "iopub.status.busy": "2023-07-29T14:22:36.205829Z",
     "iopub.status.idle": "2023-07-29T14:22:36.408155Z",
     "shell.execute_reply": "2023-07-29T14:22:36.406992Z",
     "shell.execute_reply.started": "2023-07-29T14:22:36.206182Z"
    }
   },
   "outputs": [
    {
     "data": {
      "text/plain": [
       "(2534, 2534)"
      ]
     },
     "execution_count": 18,
     "metadata": {},
     "output_type": "execute_result"
    }
   ],
   "source": [
    "similarity = cosine_similarity(vectors)\n",
    "similarity.shape # this is because I have calculated the similarity among all the rows to all the rows(confusing?? but try to understand)"
   ]
  },
  {
   "cell_type": "code",
   "execution_count": 19,
   "metadata": {
    "execution": {
     "iopub.execute_input": "2023-07-29T14:22:36.546742Z",
     "iopub.status.busy": "2023-07-29T14:22:36.546348Z",
     "iopub.status.idle": "2023-07-29T14:22:36.554841Z",
     "shell.execute_reply": "2023-07-29T14:22:36.553572Z",
     "shell.execute_reply.started": "2023-07-29T14:22:36.546712Z"
    }
   },
   "outputs": [
    {
     "data": {
      "text/plain": [
       "array([0.3345748 , 0.17485208, 0.53136893, ..., 0.57564968, 0.27586342,\n",
       "       0.37283655])"
      ]
     },
     "execution_count": 19,
     "metadata": {},
     "output_type": "execute_result"
    }
   ],
   "source": [
    "similarity[3]"
   ]
  },
  {
   "cell_type": "code",
   "execution_count": 20,
   "metadata": {
    "execution": {
     "iopub.execute_input": "2023-07-29T14:22:37.025085Z",
     "iopub.status.busy": "2023-07-29T14:22:37.024710Z",
     "iopub.status.idle": "2023-07-29T14:22:37.036186Z",
     "shell.execute_reply": "2023-07-29T14:22:37.034909Z",
     "shell.execute_reply.started": "2023-07-29T14:22:37.025056Z"
    }
   },
   "outputs": [
    {
     "data": {
      "text/plain": [
       "[(68, 0.9999999999999998),\n",
       " (303, 0.9999999999999998),\n",
       " (616, 0.9850746268656714),\n",
       " (1461, 0.9850746268656714),\n",
       " (457, 0.970149253731343),\n",
       " (1027, 0.970149253731343),\n",
       " (1735, 0.970149253731343),\n",
       " (569, 0.9468131937613656),\n",
       " (1123, 0.9468131937613656),\n",
       " (1540, 0.9468131937613656)]"
      ]
     },
     "execution_count": 20,
     "metadata": {},
     "output_type": "execute_result"
    }
   ],
   "source": [
    "sorted(list(enumerate(similarity[0])),reverse=True,key=lambda x:x[1])[1:11]"
   ]
  },
  {
   "cell_type": "code",
   "execution_count": 21,
   "metadata": {
    "execution": {
     "iopub.execute_input": "2023-07-29T14:22:37.462957Z",
     "iopub.status.busy": "2023-07-29T14:22:37.462543Z",
     "iopub.status.idle": "2023-07-29T14:22:37.470168Z",
     "shell.execute_reply": "2023-07-29T14:22:37.468905Z",
     "shell.execute_reply.started": "2023-07-29T14:22:37.462925Z"
    }
   },
   "outputs": [],
   "source": [
    "def recommend(mobile):\n",
    "    mobile_index = df[df['name']==mobile].index[0]\n",
    "    similarity_array = similarity[mobile_index]\n",
    "    similar_10_mobiles = sorted(list(enumerate(similarity_array)),reverse=True,key=lambda x:x[1])[1:11]\n",
    "    \n",
    "    for i in similar_10_mobiles:\n",
    "        print(df['name'].iloc[i[0]])\n",
    "\n"
   ]
  },
  {
   "cell_type": "code",
   "execution_count": 22,
   "metadata": {
    "execution": {
     "iopub.execute_input": "2023-07-29T14:22:37.814815Z",
     "iopub.status.busy": "2023-07-29T14:22:37.814382Z",
     "iopub.status.idle": "2023-07-29T14:22:37.825256Z",
     "shell.execute_reply": "2023-07-29T14:22:37.824086Z",
     "shell.execute_reply.started": "2023-07-29T14:22:37.814779Z"
    }
   },
   "outputs": [
    {
     "name": "stdout",
     "output_type": "stream",
     "text": [
      "APPLE iPhone 13 mini ((PRODUCT)RED, 128 GB)\n",
      "APPLE iPhone 13 mini (Starlight, 128 GB)\n",
      "APPLE iPhone 13 mini (Green, 128 GB)\n",
      "APPLE iPhone 13 mini (Midnight, 128 GB)\n",
      "APPLE iPhone 13 mini (Green, 256 GB)\n",
      "APPLE iPhone 13 mini (Midnight, 512 GB)\n",
      "APPLE iPhone 13 mini (Pink, 512 GB)\n",
      "APPLE iPhone 13 mini (Starlight, 256 GB)\n",
      "APPLE iPhone 13 mini (Midnight, 256 GB)\n",
      "APPLE iPhone 13 mini (Pink, 256 GB)\n"
     ]
    }
   ],
   "source": [
    "recommend('APPLE iPhone 13 mini (Blue, 128 GB)')"
   ]
  },
  {
   "cell_type": "markdown",
   "metadata": {},
   "source": [
    "## making Pickle file of df and similarities to use in web"
   ]
  },
  {
   "cell_type": "code",
   "execution_count": null,
   "metadata": {
    "execution": {
     "iopub.execute_input": "2023-07-29T14:22:38.495816Z",
     "iopub.status.busy": "2023-07-29T14:22:38.495439Z",
     "iopub.status.idle": "2023-07-29T14:22:38.501452Z",
     "shell.execute_reply": "2023-07-29T14:22:38.500240Z",
     "shell.execute_reply.started": "2023-07-29T14:22:38.495787Z"
    }
   },
   "outputs": [],
   "source": [
    "#os.makedirs(r'src\\model',exist_ok=True)"
   ]
  },
  {
   "cell_type": "code",
   "execution_count": 23,
   "metadata": {
    "execution": {
     "iopub.execute_input": "2023-07-29T14:22:38.871021Z",
     "iopub.status.busy": "2023-07-29T14:22:38.870613Z",
     "iopub.status.idle": "2023-07-29T14:22:38.881408Z",
     "shell.execute_reply": "2023-07-29T14:22:38.880181Z",
     "shell.execute_reply.started": "2023-07-29T14:22:38.870989Z"
    }
   },
   "outputs": [],
   "source": [
    "pickle.dump(obj=df,file=open(file=r'dataframe.pkl',mode='wb'))"
   ]
  },
  {
   "cell_type": "code",
   "execution_count": 24,
   "metadata": {
    "execution": {
     "iopub.execute_input": "2023-07-29T14:22:39.418691Z",
     "iopub.status.busy": "2023-07-29T14:22:39.418305Z",
     "iopub.status.idle": "2023-07-29T14:22:39.529791Z",
     "shell.execute_reply": "2023-07-29T14:22:39.528762Z",
     "shell.execute_reply.started": "2023-07-29T14:22:39.418662Z"
    }
   },
   "outputs": [],
   "source": [
    "pickle.dump(obj=similarity,file=open(file=r'similarity.pkl',mode='wb'))"
   ]
  },
  {
   "cell_type": "code",
   "execution_count": null,
   "metadata": {},
   "outputs": [],
   "source": []
  }
 ],
 "metadata": {
  "kernelspec": {
   "display_name": "Python 3 (ipykernel)",
   "language": "python",
   "name": "python3"
  },
  "language_info": {
   "codemirror_mode": {
    "name": "ipython",
    "version": 3
   },
   "file_extension": ".py",
   "mimetype": "text/x-python",
   "name": "python",
   "nbconvert_exporter": "python",
   "pygments_lexer": "ipython3",
   "version": "3.10.9"
  }
 },
 "nbformat": 4,
 "nbformat_minor": 4
}
